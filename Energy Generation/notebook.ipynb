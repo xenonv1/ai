{
 "cells": [
  {
   "cell_type": "code",
   "execution_count": 1140,
   "metadata": {},
   "outputs": [],
   "source": [
    "import pandas as pd\n",
    "import matplotlib.pyplot as plt"
   ]
  },
  {
   "cell_type": "code",
   "execution_count": 1141,
   "metadata": {},
   "outputs": [],
   "source": [
    "# read the csv-data\n",
    "\n",
    "df_b6 = pd.read_csv(\"./Gro_kraftwerk_Mannheim_202402060000_202402162359_Viertelstunde-block6.csv\", sep=\";\")\n",
    "df_b9 = pd.read_csv(\"./Gro_kraftwerk_Mannheim_202402060000_202402162359_Viertelstunde-block9.csv\", sep=\";\")"
   ]
  },
  {
   "cell_type": "code",
   "execution_count": 1142,
   "metadata": {},
   "outputs": [
    {
     "data": {
      "text/plain": [
       "Index(['Datum', 'Anfang', 'Ende',\n",
       "       'Generation_DE GKM Block 6 [MW] Berechnete Auflösungen'],\n",
       "      dtype='object')"
      ]
     },
     "execution_count": 1142,
     "metadata": {},
     "output_type": "execute_result"
    }
   ],
   "source": [
    "# get an understanding about the data sets\n",
    "# columns of block 6\n",
    "\n",
    "df_b6.columns"
   ]
  },
  {
   "cell_type": "code",
   "execution_count": 1143,
   "metadata": {},
   "outputs": [
    {
     "data": {
      "text/plain": [
       "(1056, 4)"
      ]
     },
     "execution_count": 1143,
     "metadata": {},
     "output_type": "execute_result"
    }
   ],
   "source": [
    "# shape of block 6\n",
    "\n",
    "df_b6.shape"
   ]
  },
  {
   "cell_type": "code",
   "execution_count": 1144,
   "metadata": {},
   "outputs": [
    {
     "data": {
      "text/html": [
       "<div>\n",
       "<style scoped>\n",
       "    .dataframe tbody tr th:only-of-type {\n",
       "        vertical-align: middle;\n",
       "    }\n",
       "\n",
       "    .dataframe tbody tr th {\n",
       "        vertical-align: top;\n",
       "    }\n",
       "\n",
       "    .dataframe thead th {\n",
       "        text-align: right;\n",
       "    }\n",
       "</style>\n",
       "<table border=\"1\" class=\"dataframe\">\n",
       "  <thead>\n",
       "    <tr style=\"text-align: right;\">\n",
       "      <th></th>\n",
       "      <th>Datum</th>\n",
       "      <th>Anfang</th>\n",
       "      <th>Ende</th>\n",
       "      <th>Generation_DE GKM Block 6 [MW] Berechnete Auflösungen</th>\n",
       "    </tr>\n",
       "  </thead>\n",
       "  <tbody>\n",
       "    <tr>\n",
       "      <th>0</th>\n",
       "      <td>06.02.2024</td>\n",
       "      <td>00:00</td>\n",
       "      <td>00:15</td>\n",
       "      <td>1,75</td>\n",
       "    </tr>\n",
       "    <tr>\n",
       "      <th>1</th>\n",
       "      <td>06.02.2024</td>\n",
       "      <td>00:15</td>\n",
       "      <td>00:30</td>\n",
       "      <td>1,75</td>\n",
       "    </tr>\n",
       "    <tr>\n",
       "      <th>2</th>\n",
       "      <td>06.02.2024</td>\n",
       "      <td>00:30</td>\n",
       "      <td>00:45</td>\n",
       "      <td>1,75</td>\n",
       "    </tr>\n",
       "    <tr>\n",
       "      <th>3</th>\n",
       "      <td>06.02.2024</td>\n",
       "      <td>00:45</td>\n",
       "      <td>01:00</td>\n",
       "      <td>1,75</td>\n",
       "    </tr>\n",
       "    <tr>\n",
       "      <th>4</th>\n",
       "      <td>06.02.2024</td>\n",
       "      <td>01:00</td>\n",
       "      <td>01:15</td>\n",
       "      <td>1,75</td>\n",
       "    </tr>\n",
       "  </tbody>\n",
       "</table>\n",
       "</div>"
      ],
      "text/plain": [
       "        Datum Anfang   Ende  \\\n",
       "0  06.02.2024  00:00  00:15   \n",
       "1  06.02.2024  00:15  00:30   \n",
       "2  06.02.2024  00:30  00:45   \n",
       "3  06.02.2024  00:45  01:00   \n",
       "4  06.02.2024  01:00  01:15   \n",
       "\n",
       "  Generation_DE GKM Block 6 [MW] Berechnete Auflösungen  \n",
       "0                                               1,75     \n",
       "1                                               1,75     \n",
       "2                                               1,75     \n",
       "3                                               1,75     \n",
       "4                                               1,75     "
      ]
     },
     "execution_count": 1144,
     "metadata": {},
     "output_type": "execute_result"
    }
   ],
   "source": [
    "# first and last rows of block 6\n",
    "\n",
    "df_b6.head()"
   ]
  },
  {
   "cell_type": "code",
   "execution_count": 1145,
   "metadata": {},
   "outputs": [
    {
     "data": {
      "text/plain": [
       "Index(['Datum', 'Anfang', 'Ende',\n",
       "       'Generation_DE GKM Block 9 [MW] Berechnete Auflösungen'],\n",
       "      dtype='object')"
      ]
     },
     "execution_count": 1145,
     "metadata": {},
     "output_type": "execute_result"
    }
   ],
   "source": [
    "# columns of block ß\n",
    "\n",
    "df_b9.columns"
   ]
  },
  {
   "cell_type": "code",
   "execution_count": 1146,
   "metadata": {},
   "outputs": [
    {
     "data": {
      "text/plain": [
       "(1056, 4)"
      ]
     },
     "execution_count": 1146,
     "metadata": {},
     "output_type": "execute_result"
    }
   ],
   "source": [
    "# shape of block 9\n",
    "\n",
    "df_b9.shape"
   ]
  },
  {
   "cell_type": "code",
   "execution_count": 1147,
   "metadata": {},
   "outputs": [
    {
     "data": {
      "text/html": [
       "<div>\n",
       "<style scoped>\n",
       "    .dataframe tbody tr th:only-of-type {\n",
       "        vertical-align: middle;\n",
       "    }\n",
       "\n",
       "    .dataframe tbody tr th {\n",
       "        vertical-align: top;\n",
       "    }\n",
       "\n",
       "    .dataframe thead th {\n",
       "        text-align: right;\n",
       "    }\n",
       "</style>\n",
       "<table border=\"1\" class=\"dataframe\">\n",
       "  <thead>\n",
       "    <tr style=\"text-align: right;\">\n",
       "      <th></th>\n",
       "      <th>Datum</th>\n",
       "      <th>Anfang</th>\n",
       "      <th>Ende</th>\n",
       "      <th>Generation_DE GKM Block 9 [MW] Berechnete Auflösungen</th>\n",
       "    </tr>\n",
       "  </thead>\n",
       "  <tbody>\n",
       "    <tr>\n",
       "      <th>0</th>\n",
       "      <td>06.02.2024</td>\n",
       "      <td>00:00</td>\n",
       "      <td>00:15</td>\n",
       "      <td>34</td>\n",
       "    </tr>\n",
       "    <tr>\n",
       "      <th>1</th>\n",
       "      <td>06.02.2024</td>\n",
       "      <td>00:15</td>\n",
       "      <td>00:30</td>\n",
       "      <td>34</td>\n",
       "    </tr>\n",
       "    <tr>\n",
       "      <th>2</th>\n",
       "      <td>06.02.2024</td>\n",
       "      <td>00:30</td>\n",
       "      <td>00:45</td>\n",
       "      <td>34</td>\n",
       "    </tr>\n",
       "    <tr>\n",
       "      <th>3</th>\n",
       "      <td>06.02.2024</td>\n",
       "      <td>00:45</td>\n",
       "      <td>01:00</td>\n",
       "      <td>34</td>\n",
       "    </tr>\n",
       "    <tr>\n",
       "      <th>4</th>\n",
       "      <td>06.02.2024</td>\n",
       "      <td>01:00</td>\n",
       "      <td>01:15</td>\n",
       "      <td>18</td>\n",
       "    </tr>\n",
       "  </tbody>\n",
       "</table>\n",
       "</div>"
      ],
      "text/plain": [
       "        Datum Anfang   Ende  \\\n",
       "0  06.02.2024  00:00  00:15   \n",
       "1  06.02.2024  00:15  00:30   \n",
       "2  06.02.2024  00:30  00:45   \n",
       "3  06.02.2024  00:45  01:00   \n",
       "4  06.02.2024  01:00  01:15   \n",
       "\n",
       "  Generation_DE GKM Block 9 [MW] Berechnete Auflösungen  \n",
       "0                                                 34     \n",
       "1                                                 34     \n",
       "2                                                 34     \n",
       "3                                                 34     \n",
       "4                                                 18     "
      ]
     },
     "execution_count": 1147,
     "metadata": {},
     "output_type": "execute_result"
    }
   ],
   "source": [
    "# first and last rows of block 9\n",
    "\n",
    "df_b9.head()"
   ]
  },
  {
   "cell_type": "code",
   "execution_count": 1148,
   "metadata": {},
   "outputs": [
    {
     "name": "stdout",
     "output_type": "stream",
     "text": [
      "Datum                                                    object\n",
      "Anfang                                                   object\n",
      "Ende                                                     object\n",
      "Generation_DE GKM Block 6 [MW] Berechnete Auflösungen    object\n",
      "dtype: object\n",
      "Datum                                                    object\n",
      "Anfang                                                   object\n",
      "Ende                                                     object\n",
      "Generation_DE GKM Block 9 [MW] Berechnete Auflösungen    object\n",
      "dtype: object\n"
     ]
    }
   ],
   "source": [
    "# check if types are matching befor attempting to merge\n",
    "\n",
    "print(df_b6.dtypes)\n",
    "print(df_b9.dtypes)"
   ]
  },
  {
   "cell_type": "code",
   "execution_count": 1149,
   "metadata": {},
   "outputs": [
    {
     "data": {
      "text/html": [
       "<div>\n",
       "<style scoped>\n",
       "    .dataframe tbody tr th:only-of-type {\n",
       "        vertical-align: middle;\n",
       "    }\n",
       "\n",
       "    .dataframe tbody tr th {\n",
       "        vertical-align: top;\n",
       "    }\n",
       "\n",
       "    .dataframe thead th {\n",
       "        text-align: right;\n",
       "    }\n",
       "</style>\n",
       "<table border=\"1\" class=\"dataframe\">\n",
       "  <thead>\n",
       "    <tr style=\"text-align: right;\">\n",
       "      <th></th>\n",
       "      <th>Datum</th>\n",
       "      <th>Anfang</th>\n",
       "      <th>Ende</th>\n",
       "      <th>Generation_DE GKM Block 6 [MW] Berechnete Auflösungen</th>\n",
       "      <th>Generation_DE GKM Block 9 [MW] Berechnete Auflösungen</th>\n",
       "    </tr>\n",
       "  </thead>\n",
       "  <tbody>\n",
       "    <tr>\n",
       "      <th>0</th>\n",
       "      <td>06.02.2024</td>\n",
       "      <td>00:00</td>\n",
       "      <td>00:15</td>\n",
       "      <td>1,75</td>\n",
       "      <td>34</td>\n",
       "    </tr>\n",
       "    <tr>\n",
       "      <th>1</th>\n",
       "      <td>06.02.2024</td>\n",
       "      <td>00:15</td>\n",
       "      <td>00:30</td>\n",
       "      <td>1,75</td>\n",
       "      <td>34</td>\n",
       "    </tr>\n",
       "    <tr>\n",
       "      <th>2</th>\n",
       "      <td>06.02.2024</td>\n",
       "      <td>00:30</td>\n",
       "      <td>00:45</td>\n",
       "      <td>1,75</td>\n",
       "      <td>34</td>\n",
       "    </tr>\n",
       "    <tr>\n",
       "      <th>3</th>\n",
       "      <td>06.02.2024</td>\n",
       "      <td>00:45</td>\n",
       "      <td>01:00</td>\n",
       "      <td>1,75</td>\n",
       "      <td>34</td>\n",
       "    </tr>\n",
       "    <tr>\n",
       "      <th>4</th>\n",
       "      <td>06.02.2024</td>\n",
       "      <td>01:00</td>\n",
       "      <td>01:15</td>\n",
       "      <td>1,75</td>\n",
       "      <td>18</td>\n",
       "    </tr>\n",
       "  </tbody>\n",
       "</table>\n",
       "</div>"
      ],
      "text/plain": [
       "        Datum Anfang   Ende  \\\n",
       "0  06.02.2024  00:00  00:15   \n",
       "1  06.02.2024  00:15  00:30   \n",
       "2  06.02.2024  00:30  00:45   \n",
       "3  06.02.2024  00:45  01:00   \n",
       "4  06.02.2024  01:00  01:15   \n",
       "\n",
       "  Generation_DE GKM Block 6 [MW] Berechnete Auflösungen  \\\n",
       "0                                               1,75      \n",
       "1                                               1,75      \n",
       "2                                               1,75      \n",
       "3                                               1,75      \n",
       "4                                               1,75      \n",
       "\n",
       "  Generation_DE GKM Block 9 [MW] Berechnete Auflösungen  \n",
       "0                                                 34     \n",
       "1                                                 34     \n",
       "2                                                 34     \n",
       "3                                                 34     \n",
       "4                                                 18     "
      ]
     },
     "execution_count": 1149,
     "metadata": {},
     "output_type": "execute_result"
    }
   ],
   "source": [
    "# join dataframes\n",
    "\n",
    "df_joined = df_b6.join(df_b9.set_index([\"Datum\", \"Anfang\", \"Ende\"]), on=[\"Datum\", \"Anfang\", \"Ende\"])\n",
    "\n",
    "df_joined.head()"
   ]
  },
  {
   "cell_type": "code",
   "execution_count": 1150,
   "metadata": {},
   "outputs": [
    {
     "data": {
      "text/html": [
       "<div>\n",
       "<style scoped>\n",
       "    .dataframe tbody tr th:only-of-type {\n",
       "        vertical-align: middle;\n",
       "    }\n",
       "\n",
       "    .dataframe tbody tr th {\n",
       "        vertical-align: top;\n",
       "    }\n",
       "\n",
       "    .dataframe thead th {\n",
       "        text-align: right;\n",
       "    }\n",
       "</style>\n",
       "<table border=\"1\" class=\"dataframe\">\n",
       "  <thead>\n",
       "    <tr style=\"text-align: right;\">\n",
       "      <th></th>\n",
       "      <th>Datum</th>\n",
       "      <th>Anfang</th>\n",
       "      <th>Ende</th>\n",
       "      <th>Generation_DE GKM Block 6 [MW] Berechnete Auflösungen</th>\n",
       "      <th>Generation_DE GKM Block 9 [MW] Berechnete Auflösungen</th>\n",
       "    </tr>\n",
       "  </thead>\n",
       "  <tbody>\n",
       "    <tr>\n",
       "      <th>1051</th>\n",
       "      <td>16.02.2024</td>\n",
       "      <td>22:45</td>\n",
       "      <td>23:00</td>\n",
       "      <td>-</td>\n",
       "      <td>-</td>\n",
       "    </tr>\n",
       "    <tr>\n",
       "      <th>1052</th>\n",
       "      <td>16.02.2024</td>\n",
       "      <td>23:00</td>\n",
       "      <td>23:15</td>\n",
       "      <td>-</td>\n",
       "      <td>-</td>\n",
       "    </tr>\n",
       "    <tr>\n",
       "      <th>1053</th>\n",
       "      <td>16.02.2024</td>\n",
       "      <td>23:15</td>\n",
       "      <td>23:30</td>\n",
       "      <td>-</td>\n",
       "      <td>-</td>\n",
       "    </tr>\n",
       "    <tr>\n",
       "      <th>1054</th>\n",
       "      <td>16.02.2024</td>\n",
       "      <td>23:30</td>\n",
       "      <td>23:45</td>\n",
       "      <td>-</td>\n",
       "      <td>-</td>\n",
       "    </tr>\n",
       "    <tr>\n",
       "      <th>1055</th>\n",
       "      <td>16.02.2024</td>\n",
       "      <td>23:45</td>\n",
       "      <td>00:00</td>\n",
       "      <td>-</td>\n",
       "      <td>-</td>\n",
       "    </tr>\n",
       "  </tbody>\n",
       "</table>\n",
       "</div>"
      ],
      "text/plain": [
       "           Datum Anfang   Ende  \\\n",
       "1051  16.02.2024  22:45  23:00   \n",
       "1052  16.02.2024  23:00  23:15   \n",
       "1053  16.02.2024  23:15  23:30   \n",
       "1054  16.02.2024  23:30  23:45   \n",
       "1055  16.02.2024  23:45  00:00   \n",
       "\n",
       "     Generation_DE GKM Block 6 [MW] Berechnete Auflösungen  \\\n",
       "1051                                                  -      \n",
       "1052                                                  -      \n",
       "1053                                                  -      \n",
       "1054                                                  -      \n",
       "1055                                                  -      \n",
       "\n",
       "     Generation_DE GKM Block 9 [MW] Berechnete Auflösungen  \n",
       "1051                                                  -     \n",
       "1052                                                  -     \n",
       "1053                                                  -     \n",
       "1054                                                  -     \n",
       "1055                                                  -     "
      ]
     },
     "execution_count": 1150,
     "metadata": {},
     "output_type": "execute_result"
    }
   ],
   "source": [
    "df_joined.tail()"
   ]
  },
  {
   "cell_type": "code",
   "execution_count": 1151,
   "metadata": {},
   "outputs": [
    {
     "data": {
      "text/plain": [
       "Index(['Datum', 'Anfang', 'Ende',\n",
       "       'Generation_DE GKM Block 6 [MW] Berechnete Auflösungen',\n",
       "       'Generation_DE GKM Block 9 [MW] Berechnete Auflösungen'],\n",
       "      dtype='object')"
      ]
     },
     "execution_count": 1151,
     "metadata": {},
     "output_type": "execute_result"
    }
   ],
   "source": [
    "# inspect the newly created dataframe\n",
    "\n",
    "df_joined.columns"
   ]
  },
  {
   "cell_type": "code",
   "execution_count": 1152,
   "metadata": {},
   "outputs": [
    {
     "data": {
      "text/plain": [
       "0       False\n",
       "1       False\n",
       "2       False\n",
       "3       False\n",
       "4       False\n",
       "        ...  \n",
       "1051    False\n",
       "1052    False\n",
       "1053    False\n",
       "1054    False\n",
       "1055    False\n",
       "Name: Generation_DE GKM Block 6 [MW] Berechnete Auflösungen, Length: 1056, dtype: bool"
      ]
     },
     "execution_count": 1152,
     "metadata": {},
     "output_type": "execute_result"
    }
   ],
   "source": [
    "# data cleansing\n",
    "# check for null values\n",
    "\n",
    "df_joined[\"Generation_DE GKM Block 6 [MW] Berechnete Auflösungen\"].isna()"
   ]
  },
  {
   "cell_type": "code",
   "execution_count": 1153,
   "metadata": {},
   "outputs": [
    {
     "data": {
      "text/plain": [
       "0       False\n",
       "1       False\n",
       "2       False\n",
       "3       False\n",
       "4       False\n",
       "        ...  \n",
       "1051    False\n",
       "1052    False\n",
       "1053    False\n",
       "1054    False\n",
       "1055    False\n",
       "Name: Generation_DE GKM Block 9 [MW] Berechnete Auflösungen, Length: 1056, dtype: bool"
      ]
     },
     "execution_count": 1153,
     "metadata": {},
     "output_type": "execute_result"
    }
   ],
   "source": [
    "# data cleansing\n",
    "# check for null values\n",
    "df_joined[\"Generation_DE GKM Block 9 [MW] Berechnete Auflösungen\"].isna()"
   ]
  },
  {
   "cell_type": "code",
   "execution_count": 1154,
   "metadata": {},
   "outputs": [
    {
     "name": "stdout",
     "output_type": "stream",
     "text": [
      "'-' in block 6  536\n",
      "'-' in block 9  532\n"
     ]
    }
   ],
   "source": [
    "# check for \"-\" symbols\n",
    "\n",
    "print(\"'-' in block 6 \", df_joined[\"Generation_DE GKM Block 6 [MW] Berechnete Auflösungen\"].str.count(\"-\").sum())\n",
    "print(\"'-' in block 9 \", df_joined[\"Generation_DE GKM Block 9 [MW] Berechnete Auflösungen\"].str.count(\"-\").sum())"
   ]
  },
  {
   "cell_type": "code",
   "execution_count": 1155,
   "metadata": {},
   "outputs": [
    {
     "data": {
      "text/html": [
       "<div>\n",
       "<style scoped>\n",
       "    .dataframe tbody tr th:only-of-type {\n",
       "        vertical-align: middle;\n",
       "    }\n",
       "\n",
       "    .dataframe tbody tr th {\n",
       "        vertical-align: top;\n",
       "    }\n",
       "\n",
       "    .dataframe thead th {\n",
       "        text-align: right;\n",
       "    }\n",
       "</style>\n",
       "<table border=\"1\" class=\"dataframe\">\n",
       "  <thead>\n",
       "    <tr style=\"text-align: right;\">\n",
       "      <th></th>\n",
       "      <th>Datum</th>\n",
       "      <th>Anfang</th>\n",
       "      <th>Ende</th>\n",
       "      <th>Generation_DE GKM Block 6 [MW] Berechnete Auflösungen</th>\n",
       "      <th>Generation_DE GKM Block 9 [MW] Berechnete Auflösungen</th>\n",
       "    </tr>\n",
       "  </thead>\n",
       "  <tbody>\n",
       "    <tr>\n",
       "      <th>92</th>\n",
       "      <td>06.02.2024</td>\n",
       "      <td>23:00</td>\n",
       "      <td>23:15</td>\n",
       "      <td>-</td>\n",
       "      <td>30,75</td>\n",
       "    </tr>\n",
       "  </tbody>\n",
       "</table>\n",
       "</div>"
      ],
      "text/plain": [
       "         Datum Anfang   Ende  \\\n",
       "92  06.02.2024  23:00  23:15   \n",
       "\n",
       "   Generation_DE GKM Block 6 [MW] Berechnete Auflösungen  \\\n",
       "92                                                  -      \n",
       "\n",
       "   Generation_DE GKM Block 9 [MW] Berechnete Auflösungen  \n",
       "92                                              30,75     "
      ]
     },
     "execution_count": 1155,
     "metadata": {},
     "output_type": "execute_result"
    }
   ],
   "source": [
    "df_joined[df_joined[\"Generation_DE GKM Block 6 [MW] Berechnete Auflösungen\"].str.contains(\"-\", na=False)].head(1)"
   ]
  },
  {
   "cell_type": "code",
   "execution_count": 1156,
   "metadata": {},
   "outputs": [
    {
     "data": {
      "text/html": [
       "<div>\n",
       "<style scoped>\n",
       "    .dataframe tbody tr th:only-of-type {\n",
       "        vertical-align: middle;\n",
       "    }\n",
       "\n",
       "    .dataframe tbody tr th {\n",
       "        vertical-align: top;\n",
       "    }\n",
       "\n",
       "    .dataframe thead th {\n",
       "        text-align: right;\n",
       "    }\n",
       "</style>\n",
       "<table border=\"1\" class=\"dataframe\">\n",
       "  <thead>\n",
       "    <tr style=\"text-align: right;\">\n",
       "      <th></th>\n",
       "      <th>Datum</th>\n",
       "      <th>Anfang</th>\n",
       "      <th>Ende</th>\n",
       "      <th>Generation_DE GKM Block 6 [MW] Berechnete Auflösungen</th>\n",
       "      <th>Generation_DE GKM Block 9 [MW] Berechnete Auflösungen</th>\n",
       "    </tr>\n",
       "  </thead>\n",
       "  <tbody>\n",
       "    <tr>\n",
       "      <th>count</th>\n",
       "      <td>1056</td>\n",
       "      <td>1056</td>\n",
       "      <td>1056</td>\n",
       "      <td>1056</td>\n",
       "      <td>1056</td>\n",
       "    </tr>\n",
       "    <tr>\n",
       "      <th>unique</th>\n",
       "      <td>11</td>\n",
       "      <td>96</td>\n",
       "      <td>96</td>\n",
       "      <td>33</td>\n",
       "      <td>109</td>\n",
       "    </tr>\n",
       "    <tr>\n",
       "      <th>top</th>\n",
       "      <td>06.02.2024</td>\n",
       "      <td>00:00</td>\n",
       "      <td>00:15</td>\n",
       "      <td>-</td>\n",
       "      <td>-</td>\n",
       "    </tr>\n",
       "    <tr>\n",
       "      <th>freq</th>\n",
       "      <td>96</td>\n",
       "      <td>11</td>\n",
       "      <td>11</td>\n",
       "      <td>536</td>\n",
       "      <td>532</td>\n",
       "    </tr>\n",
       "  </tbody>\n",
       "</table>\n",
       "</div>"
      ],
      "text/plain": [
       "             Datum Anfang   Ende  \\\n",
       "count         1056   1056   1056   \n",
       "unique          11     96     96   \n",
       "top     06.02.2024  00:00  00:15   \n",
       "freq            96     11     11   \n",
       "\n",
       "       Generation_DE GKM Block 6 [MW] Berechnete Auflösungen  \\\n",
       "count                                                1056      \n",
       "unique                                                 33      \n",
       "top                                                     -      \n",
       "freq                                                  536      \n",
       "\n",
       "       Generation_DE GKM Block 9 [MW] Berechnete Auflösungen  \n",
       "count                                                1056     \n",
       "unique                                                109     \n",
       "top                                                     -     \n",
       "freq                                                  532     "
      ]
     },
     "execution_count": 1156,
     "metadata": {},
     "output_type": "execute_result"
    }
   ],
   "source": [
    "# describing to check how to handle the missing values\n",
    "\n",
    "df_joined.describe()"
   ]
  },
  {
   "cell_type": "code",
   "execution_count": 1157,
   "metadata": {},
   "outputs": [],
   "source": [
    "# replace ever - character with the a 0\n",
    "\n",
    "df_joined[\"Generation_DE GKM Block 6 [MW] Berechnete Auflösungen\"] = df_joined[\"Generation_DE GKM Block 6 [MW] Berechnete Auflösungen\"].str.replace(\"-\", \"0\")\n",
    "df_joined[\"Generation_DE GKM Block 9 [MW] Berechnete Auflösungen\"] = df_joined[\"Generation_DE GKM Block 9 [MW] Berechnete Auflösungen\"].str.replace(\"-\", \"0\")"
   ]
  },
  {
   "cell_type": "code",
   "execution_count": 1158,
   "metadata": {},
   "outputs": [
    {
     "name": "stdout",
     "output_type": "stream",
     "text": [
      "'-' in block 6  0\n",
      "'-' in block 9  0\n"
     ]
    }
   ],
   "source": [
    "# check for \"-\" symbols again to verify the replacing worked\n",
    "\n",
    "print(\"'-' in block 6 \", df_joined[\"Generation_DE GKM Block 6 [MW] Berechnete Auflösungen\"].str.count(\"-\").sum())\n",
    "print(\"'-' in block 9 \", df_joined[\"Generation_DE GKM Block 9 [MW] Berechnete Auflösungen\"].str.count(\"-\").sum())"
   ]
  },
  {
   "cell_type": "code",
   "execution_count": 1159,
   "metadata": {},
   "outputs": [],
   "source": [
    "# replace the , with . to enable calculations\n",
    "\n",
    "df_joined[\"Generation_DE GKM Block 6 [MW] Berechnete Auflösungen\"] = df_joined[\"Generation_DE GKM Block 6 [MW] Berechnete Auflösungen\"].str.replace(\",\", \".\")\n",
    "df_joined[\"Generation_DE GKM Block 9 [MW] Berechnete Auflösungen\"] = df_joined[\"Generation_DE GKM Block 9 [MW] Berechnete Auflösungen\"].str.replace(\",\", \".\")"
   ]
  },
  {
   "cell_type": "code",
   "execution_count": 1160,
   "metadata": {},
   "outputs": [
    {
     "data": {
      "text/html": [
       "<div>\n",
       "<style scoped>\n",
       "    .dataframe tbody tr th:only-of-type {\n",
       "        vertical-align: middle;\n",
       "    }\n",
       "\n",
       "    .dataframe tbody tr th {\n",
       "        vertical-align: top;\n",
       "    }\n",
       "\n",
       "    .dataframe thead th {\n",
       "        text-align: right;\n",
       "    }\n",
       "</style>\n",
       "<table border=\"1\" class=\"dataframe\">\n",
       "  <thead>\n",
       "    <tr style=\"text-align: right;\">\n",
       "      <th></th>\n",
       "      <th>Datum</th>\n",
       "      <th>Anfang</th>\n",
       "      <th>Ende</th>\n",
       "      <th>Generation_DE GKM Block 6 [MW] Berechnete Auflösungen</th>\n",
       "      <th>Generation_DE GKM Block 9 [MW] Berechnete Auflösungen</th>\n",
       "    </tr>\n",
       "  </thead>\n",
       "  <tbody>\n",
       "    <tr>\n",
       "      <th>0</th>\n",
       "      <td>06.02.2024</td>\n",
       "      <td>00:00</td>\n",
       "      <td>00:15</td>\n",
       "      <td>1.75</td>\n",
       "      <td>34</td>\n",
       "    </tr>\n",
       "    <tr>\n",
       "      <th>1</th>\n",
       "      <td>06.02.2024</td>\n",
       "      <td>00:15</td>\n",
       "      <td>00:30</td>\n",
       "      <td>1.75</td>\n",
       "      <td>34</td>\n",
       "    </tr>\n",
       "    <tr>\n",
       "      <th>2</th>\n",
       "      <td>06.02.2024</td>\n",
       "      <td>00:30</td>\n",
       "      <td>00:45</td>\n",
       "      <td>1.75</td>\n",
       "      <td>34</td>\n",
       "    </tr>\n",
       "    <tr>\n",
       "      <th>3</th>\n",
       "      <td>06.02.2024</td>\n",
       "      <td>00:45</td>\n",
       "      <td>01:00</td>\n",
       "      <td>1.75</td>\n",
       "      <td>34</td>\n",
       "    </tr>\n",
       "    <tr>\n",
       "      <th>4</th>\n",
       "      <td>06.02.2024</td>\n",
       "      <td>01:00</td>\n",
       "      <td>01:15</td>\n",
       "      <td>1.75</td>\n",
       "      <td>18</td>\n",
       "    </tr>\n",
       "  </tbody>\n",
       "</table>\n",
       "</div>"
      ],
      "text/plain": [
       "        Datum Anfang   Ende  \\\n",
       "0  06.02.2024  00:00  00:15   \n",
       "1  06.02.2024  00:15  00:30   \n",
       "2  06.02.2024  00:30  00:45   \n",
       "3  06.02.2024  00:45  01:00   \n",
       "4  06.02.2024  01:00  01:15   \n",
       "\n",
       "  Generation_DE GKM Block 6 [MW] Berechnete Auflösungen  \\\n",
       "0                                               1.75      \n",
       "1                                               1.75      \n",
       "2                                               1.75      \n",
       "3                                               1.75      \n",
       "4                                               1.75      \n",
       "\n",
       "  Generation_DE GKM Block 9 [MW] Berechnete Auflösungen  \n",
       "0                                                 34     \n",
       "1                                                 34     \n",
       "2                                                 34     \n",
       "3                                                 34     \n",
       "4                                                 18     "
      ]
     },
     "execution_count": 1160,
     "metadata": {},
     "output_type": "execute_result"
    }
   ],
   "source": [
    "# check if it worked\n",
    "\n",
    "df_joined.head()"
   ]
  },
  {
   "cell_type": "code",
   "execution_count": 1161,
   "metadata": {},
   "outputs": [],
   "source": [
    "# string to float\n",
    "\n",
    "df_joined[\"Generation_DE GKM Block 6 [MW] Berechnete Auflösungen\"] = df_joined[\"Generation_DE GKM Block 6 [MW] Berechnete Auflösungen\"].astype(float)\n",
    "\n",
    "df_joined[\"Generation_DE GKM Block 9 [MW] Berechnete Auflösungen\"] = df_joined[\"Generation_DE GKM Block 9 [MW] Berechnete Auflösungen\"].astype(float)"
   ]
  },
  {
   "cell_type": "code",
   "execution_count": 1162,
   "metadata": {},
   "outputs": [
    {
     "data": {
      "text/plain": [
       "Datum                                                     object\n",
       "Anfang                                                    object\n",
       "Ende                                                      object\n",
       "Generation_DE GKM Block 6 [MW] Berechnete Auflösungen    float64\n",
       "Generation_DE GKM Block 9 [MW] Berechnete Auflösungen    float64\n",
       "dtype: object"
      ]
     },
     "execution_count": 1162,
     "metadata": {},
     "output_type": "execute_result"
    }
   ],
   "source": [
    "# heck types again\n",
    "\n",
    "df_joined.dtypes"
   ]
  },
  {
   "cell_type": "code",
   "execution_count": 1163,
   "metadata": {},
   "outputs": [
    {
     "data": {
      "text/html": [
       "<div>\n",
       "<style scoped>\n",
       "    .dataframe tbody tr th:only-of-type {\n",
       "        vertical-align: middle;\n",
       "    }\n",
       "\n",
       "    .dataframe tbody tr th {\n",
       "        vertical-align: top;\n",
       "    }\n",
       "\n",
       "    .dataframe thead th {\n",
       "        text-align: right;\n",
       "    }\n",
       "</style>\n",
       "<table border=\"1\" class=\"dataframe\">\n",
       "  <thead>\n",
       "    <tr style=\"text-align: right;\">\n",
       "      <th></th>\n",
       "      <th>Datum</th>\n",
       "      <th>Anfang</th>\n",
       "      <th>Ende</th>\n",
       "      <th>Generation_DE GKM Block 6 [MW] Berechnete Auflösungen</th>\n",
       "      <th>Generation_DE GKM Block 9 [MW] Berechnete Auflösungen</th>\n",
       "      <th>summe</th>\n",
       "    </tr>\n",
       "  </thead>\n",
       "  <tbody>\n",
       "    <tr>\n",
       "      <th>0</th>\n",
       "      <td>06.02.2024</td>\n",
       "      <td>00:00</td>\n",
       "      <td>00:15</td>\n",
       "      <td>1.75</td>\n",
       "      <td>34.0</td>\n",
       "      <td>35.75</td>\n",
       "    </tr>\n",
       "    <tr>\n",
       "      <th>1</th>\n",
       "      <td>06.02.2024</td>\n",
       "      <td>00:15</td>\n",
       "      <td>00:30</td>\n",
       "      <td>1.75</td>\n",
       "      <td>34.0</td>\n",
       "      <td>35.75</td>\n",
       "    </tr>\n",
       "    <tr>\n",
       "      <th>2</th>\n",
       "      <td>06.02.2024</td>\n",
       "      <td>00:30</td>\n",
       "      <td>00:45</td>\n",
       "      <td>1.75</td>\n",
       "      <td>34.0</td>\n",
       "      <td>35.75</td>\n",
       "    </tr>\n",
       "    <tr>\n",
       "      <th>3</th>\n",
       "      <td>06.02.2024</td>\n",
       "      <td>00:45</td>\n",
       "      <td>01:00</td>\n",
       "      <td>1.75</td>\n",
       "      <td>34.0</td>\n",
       "      <td>35.75</td>\n",
       "    </tr>\n",
       "    <tr>\n",
       "      <th>4</th>\n",
       "      <td>06.02.2024</td>\n",
       "      <td>01:00</td>\n",
       "      <td>01:15</td>\n",
       "      <td>1.75</td>\n",
       "      <td>18.0</td>\n",
       "      <td>19.75</td>\n",
       "    </tr>\n",
       "  </tbody>\n",
       "</table>\n",
       "</div>"
      ],
      "text/plain": [
       "        Datum Anfang   Ende  \\\n",
       "0  06.02.2024  00:00  00:15   \n",
       "1  06.02.2024  00:15  00:30   \n",
       "2  06.02.2024  00:30  00:45   \n",
       "3  06.02.2024  00:45  01:00   \n",
       "4  06.02.2024  01:00  01:15   \n",
       "\n",
       "   Generation_DE GKM Block 6 [MW] Berechnete Auflösungen  \\\n",
       "0                                               1.75       \n",
       "1                                               1.75       \n",
       "2                                               1.75       \n",
       "3                                               1.75       \n",
       "4                                               1.75       \n",
       "\n",
       "   Generation_DE GKM Block 9 [MW] Berechnete Auflösungen  summe  \n",
       "0                                               34.0      35.75  \n",
       "1                                               34.0      35.75  \n",
       "2                                               34.0      35.75  \n",
       "3                                               34.0      35.75  \n",
       "4                                               18.0      19.75  "
      ]
     },
     "execution_count": 1163,
     "metadata": {},
     "output_type": "execute_result"
    }
   ],
   "source": [
    "# create a new table to have a sum\n",
    "\n",
    "df_joined[\"summe\"] = df_joined[\"Generation_DE GKM Block 6 [MW] Berechnete Auflösungen\"] + df_joined[\"Generation_DE GKM Block 9 [MW] Berechnete Auflösungen\"]\n",
    "\n",
    "df_joined.head()"
   ]
  },
  {
   "cell_type": "code",
   "execution_count": 1164,
   "metadata": {},
   "outputs": [
    {
     "data": {
      "text/html": [
       "<div>\n",
       "<style scoped>\n",
       "    .dataframe tbody tr th:only-of-type {\n",
       "        vertical-align: middle;\n",
       "    }\n",
       "\n",
       "    .dataframe tbody tr th {\n",
       "        vertical-align: top;\n",
       "    }\n",
       "\n",
       "    .dataframe thead th {\n",
       "        text-align: right;\n",
       "    }\n",
       "</style>\n",
       "<table border=\"1\" class=\"dataframe\">\n",
       "  <thead>\n",
       "    <tr style=\"text-align: right;\">\n",
       "      <th></th>\n",
       "      <th>index</th>\n",
       "      <th>Datum</th>\n",
       "      <th>Anfang</th>\n",
       "      <th>Ende</th>\n",
       "      <th>Generation_DE GKM Block 6 [MW] Berechnete Auflösungen</th>\n",
       "      <th>Generation_DE GKM Block 9 [MW] Berechnete Auflösungen</th>\n",
       "      <th>summe</th>\n",
       "    </tr>\n",
       "    <tr>\n",
       "      <th>Zeitstempel</th>\n",
       "      <th></th>\n",
       "      <th></th>\n",
       "      <th></th>\n",
       "      <th></th>\n",
       "      <th></th>\n",
       "      <th></th>\n",
       "      <th></th>\n",
       "    </tr>\n",
       "  </thead>\n",
       "  <tbody>\n",
       "    <tr>\n",
       "      <th>2024-02-06 00:00:00</th>\n",
       "      <td>0</td>\n",
       "      <td>06.02.2024</td>\n",
       "      <td>00:00</td>\n",
       "      <td>00:15</td>\n",
       "      <td>1.75</td>\n",
       "      <td>34.0</td>\n",
       "      <td>35.75</td>\n",
       "    </tr>\n",
       "    <tr>\n",
       "      <th>2024-02-06 00:15:00</th>\n",
       "      <td>1</td>\n",
       "      <td>06.02.2024</td>\n",
       "      <td>00:15</td>\n",
       "      <td>00:30</td>\n",
       "      <td>1.75</td>\n",
       "      <td>34.0</td>\n",
       "      <td>35.75</td>\n",
       "    </tr>\n",
       "    <tr>\n",
       "      <th>2024-02-06 00:30:00</th>\n",
       "      <td>2</td>\n",
       "      <td>06.02.2024</td>\n",
       "      <td>00:30</td>\n",
       "      <td>00:45</td>\n",
       "      <td>1.75</td>\n",
       "      <td>34.0</td>\n",
       "      <td>35.75</td>\n",
       "    </tr>\n",
       "    <tr>\n",
       "      <th>2024-02-06 00:45:00</th>\n",
       "      <td>3</td>\n",
       "      <td>06.02.2024</td>\n",
       "      <td>00:45</td>\n",
       "      <td>01:00</td>\n",
       "      <td>1.75</td>\n",
       "      <td>34.0</td>\n",
       "      <td>35.75</td>\n",
       "    </tr>\n",
       "    <tr>\n",
       "      <th>2024-02-06 01:00:00</th>\n",
       "      <td>4</td>\n",
       "      <td>06.02.2024</td>\n",
       "      <td>01:00</td>\n",
       "      <td>01:15</td>\n",
       "      <td>1.75</td>\n",
       "      <td>18.0</td>\n",
       "      <td>19.75</td>\n",
       "    </tr>\n",
       "  </tbody>\n",
       "</table>\n",
       "</div>"
      ],
      "text/plain": [
       "                     index       Datum Anfang   Ende  \\\n",
       "Zeitstempel                                            \n",
       "2024-02-06 00:00:00      0  06.02.2024  00:00  00:15   \n",
       "2024-02-06 00:15:00      1  06.02.2024  00:15  00:30   \n",
       "2024-02-06 00:30:00      2  06.02.2024  00:30  00:45   \n",
       "2024-02-06 00:45:00      3  06.02.2024  00:45  01:00   \n",
       "2024-02-06 01:00:00      4  06.02.2024  01:00  01:15   \n",
       "\n",
       "                     Generation_DE GKM Block 6 [MW] Berechnete Auflösungen  \\\n",
       "Zeitstempel                                                                  \n",
       "2024-02-06 00:00:00                                               1.75       \n",
       "2024-02-06 00:15:00                                               1.75       \n",
       "2024-02-06 00:30:00                                               1.75       \n",
       "2024-02-06 00:45:00                                               1.75       \n",
       "2024-02-06 01:00:00                                               1.75       \n",
       "\n",
       "                     Generation_DE GKM Block 9 [MW] Berechnete Auflösungen  \\\n",
       "Zeitstempel                                                                  \n",
       "2024-02-06 00:00:00                                               34.0       \n",
       "2024-02-06 00:15:00                                               34.0       \n",
       "2024-02-06 00:30:00                                               34.0       \n",
       "2024-02-06 00:45:00                                               34.0       \n",
       "2024-02-06 01:00:00                                               18.0       \n",
       "\n",
       "                     summe  \n",
       "Zeitstempel                 \n",
       "2024-02-06 00:00:00  35.75  \n",
       "2024-02-06 00:15:00  35.75  \n",
       "2024-02-06 00:30:00  35.75  \n",
       "2024-02-06 00:45:00  35.75  \n",
       "2024-02-06 01:00:00  19.75  "
      ]
     },
     "execution_count": 1164,
     "metadata": {},
     "output_type": "execute_result"
    }
   ],
   "source": [
    "# reset index column\n",
    "\n",
    "df_joined.reset_index(inplace=True)\n",
    "\n",
    "# create new column\n",
    "\n",
    "df_joined[\"Zeitstempel\"] = df_joined[\"Datum\"] + \" \" + df_joined[\"Anfang\"]\n",
    "\n",
    "# set index\n",
    "df_joined.set_index(\"Zeitstempel\", inplace=True)\n",
    "\n",
    "# to datetime\n",
    "df_joined.index = pd.to_datetime(df_joined.index, format=\"%d.%m.%Y %H:%M\")\n",
    "\n",
    "# drop irrelevant columns\n",
    "\n",
    "df_joined.drop([\"Datum\", \"Anfang\", \"Ende\"], axis=1)\n",
    "\n",
    "df_joined.head(5)"
   ]
  },
  {
   "cell_type": "code",
   "execution_count": 1165,
   "metadata": {},
   "outputs": [
    {
     "data": {
      "image/png": "[encoded data removed]",
      "text/plain": [
       "<Figure size 640x480 with 1 Axes>"
      ]
     },
     "metadata": {},
     "output_type": "display_data"
    }
   ],
   "source": [
    "# start plotting\n",
    "\n",
    "plt.plot(df_joined.index, df_joined[\"summe\"])\n",
    "plt.show()"
   ]
  }
 ],
 "metadata": {
  "kernelspec": {
   "display_name": "Python 3",
   "language": "python",
   "name": "python3"
  },
  "language_info": {
   "codemirror_mode": {
    "name": "ipython",
    "version": 3
   },
   "file_extension": ".py",
   "mimetype": "text/x-python",
   "name": "python",
   "nbconvert_exporter": "python",
   "pygments_lexer": "ipython3",
   "version": "3.10.8"
  }
 },
 "nbformat": 4,
 "nbformat_minor": 2
}
